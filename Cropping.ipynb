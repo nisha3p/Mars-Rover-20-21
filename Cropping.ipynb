{
 "cells": [
  {
   "cell_type": "code",
   "execution_count": 23,
   "metadata": {},
   "outputs": [],
   "source": [
    "import cv2\n",
    "import numpy as np\n",
    "import os\n",
    "from os import listdir\n",
    "from os.path import isfile, join\n",
    "import shutil\n",
    "\n",
    "\n",
    "\n",
    "\n",
    "onlyfiles = [f for f in listdir(\"/home/tejal/Downloads/Data Set/random\") if isfile(join(\"/home/tejal/Downloads/Data Set/random\", f))]\n",
    "i=0\n",
    "c=0\n",
    "for i in onlyfiles:\n",
    "    \n",
    "    image = cv2.imread(\"/home/tejal/Downloads/Data Set/final_tb/\"+onlyfiles[c])\n",
    "    gray=cv2.cvtColor(image,cv2.COLOR_BGR2GRAY)\n",
    "    path = '/home/tejal/Downloads/Data Set/cropped_tb'\n",
    "\n",
    "    height,width = image.shape[:2]\n",
    "    image1 = cv2.rotate(image, cv2.ROTATE_90_CLOCKWISE)\n",
    "    \n",
    "    height,width=image.shape[:2]\n",
    "    st_r ,st_c = int(height*0.15) , int(width*0.15)\n",
    "    ed_r ,ed_c = int(height*0.85) , int(width*0.85)\n",
    "    \n",
    "    \n",
    "    start_row, start_col = 0, 0\n",
    "\n",
    "    # Let's get the ending pixel coordinates (bottom right)\n",
    "    end_row, end_col = 900, 900\n",
    "\n",
    "    # Simply use indexing to crop out the rectangle we desire\n",
    "    image2 = image[start_row:end_row , start_col:end_col]\n",
    "    \n",
    "    cv2.imwrite(os.path.join(path ,'cropped_'+str(i)+'.tif'), image2)\n",
    "    \n",
    "    c+=1\n",
    "    "
   ]
  },
  {
   "cell_type": "code",
   "execution_count": null,
   "metadata": {},
   "outputs": [],
   "source": []
  }
 ],
 "metadata": {
  "kernelspec": {
   "display_name": "Python 3",
   "language": "python",
   "name": "python3"
  },
  "language_info": {
   "codemirror_mode": {
    "name": "ipython",
    "version": 3
   },
   "file_extension": ".py",
   "mimetype": "text/x-python",
   "name": "python",
   "nbconvert_exporter": "python",
   "pygments_lexer": "ipython3",
   "version": "3.8.5"
  }
 },
 "nbformat": 4,
 "nbformat_minor": 4
}
