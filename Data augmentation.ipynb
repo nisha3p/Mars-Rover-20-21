{
 "cells": [
  {
   "cell_type": "code",
   "execution_count": 9,
   "metadata": {},
   "outputs": [],
   "source": [
    "import cv2\n",
    "import numpy as np\n",
    "import os\n",
    "from os import listdir\n",
    "from os.path import isfile, join\n",
    "import shutil\n",
    "onlyfiles = [f for f in listdir(\"/home/tejal/Downloads/Data Set/cropped_tb\") if isfile(join(\"/home/tejal/Downloads/Data Set/cropped_tb\", f))]\n",
    "i=0\n",
    "c=0\n",
    "for i in onlyfiles:\n",
    "    image = cv2.imread(\"/home/tejal/Downloads/Data Set/cropped_tb/\"+onlyfiles[c])\n",
    "    gray=cv2.cvtColor(image,cv2.COLOR_BGR2GRAY)\n",
    "    path = '/home/tejal/Downloads/Data Set/aug_tb'\n",
    "\n",
    "    height,width = image.shape[:2]\n",
    "    image1 = cv2.rotate(image, cv2.ROTATE_90_CLOCKWISE)\n",
    "    height,width=image.shape[:2]\n",
    "    st_r ,st_c = int(height*0.15) , int(width*0.15)\n",
    "    ed_r ,ed_c = int(height*0.85) , int(width*0.85)\n",
    "    \n",
    "    image2 = image[st_r:ed_r,st_c:ed_c]\n",
    "    image2 =cv2.resize(image,(512,512))\n",
    "    \n",
    "    m=np.ones(image.shape ,dtype=\"uint8\")*60\n",
    "    image3=cv2.add(image,m)\n",
    "    image4=cv2.subtract(image,m)\n",
    "    image5=cv2.flip(image, 1)\n",
    "    \n",
    "    cv2.imwrite(os.path.join(path ,'rotated_'+str(i)+'.tif'), image1)\n",
    "    cv2.imwrite(os.path.join(path ,'added_'+str(i)+'.tif'), image3)\n",
    "    cv2.imwrite(os.path.join(path ,'subtracted_'+str(i)+'.tif'), image4)\n",
    "    cv2.imwrite(os.path.join(path ,'flipped_'+str(i)+'.tif'),image5)\n",
    "    c+=1\n",
    "    "
   ]
  },
  {
   "cell_type": "code",
   "execution_count": null,
   "metadata": {},
   "outputs": [],
   "source": []
  }
 ],
 "metadata": {
  "kernelspec": {
   "display_name": "Python 3",
   "language": "python",
   "name": "python3"
  },
  "language_info": {
   "codemirror_mode": {
    "name": "ipython",
    "version": 3
   },
   "file_extension": ".py",
   "mimetype": "text/x-python",
   "name": "python",
   "nbconvert_exporter": "python",
   "pygments_lexer": "ipython3",
   "version": "3.8.5"
  }
 },
 "nbformat": 4,
 "nbformat_minor": 4
}
