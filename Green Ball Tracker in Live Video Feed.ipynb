{
 "cells": [
  {
   "cell_type": "code",
   "execution_count": 1,
   "metadata": {},
   "outputs": [],
   "source": [
    "import cv2\n",
    "import numpy as np\n",
    "def green_finder(img):\n",
    "    img=cv2.flip(img,1)\n",
    "    hsv_img = cv2.cvtColor(img, cv2.COLOR_BGR2HSV)\n",
    "    lower_green = np.array([30,100,100])\n",
    "    upper_green = np.array([90,180,180])\n",
    "    mask = cv2.inRange(hsv_img, lower_green, upper_green)\n",
    "    contours, _ = cv2.findContours(mask.copy(), cv2.RETR_EXTERNAL, cv2.CHAIN_APPROX_SIMPLE)\n",
    "    if len(contours)>0:\n",
    "        c = max(contours, key=cv2.contourArea)\n",
    "        (x, y), radius = cv2.minEnclosingCircle(c)\n",
    "        if radius>10:\n",
    "            cv2.circle(img, (int(x), int(y)), int(radius),(255, 0, 0), 3)\n",
    "            cv2.putText(img, 'Tennis Ball Found', (int(image.shape[1]/2)-150,40), cv2.FONT_HERSHEY_COMPLEX,1, (255,0,0), 1)\n",
    "        else:\n",
    "            cv2.putText(img, 'Ball Not Found',(int(image.shape[1]/2)-140,40), cv2.FONT_HERSHEY_COMPLEX,1, (0,0,255), 1)\n",
    "    return img\n",
    "cap = cv2.VideoCapture(0)\n",
    "while True:\n",
    "    ret, image = cap.read()\n",
    "    cv2.imshow('Green Ball Tracker', green_finder(image))\n",
    "    if cv2.waitKey(1) == 13: \n",
    "        break\n",
    "cap.release()\n",
    "cv2.destroyAllWindows()  "
   ]
  },
  {
   "cell_type": "code",
   "execution_count": null,
   "metadata": {},
   "outputs": [],
   "source": []
  },
  {
   "cell_type": "code",
   "execution_count": null,
   "metadata": {},
   "outputs": [],
   "source": []
  }
 ],
 "metadata": {
  "kernelspec": {
   "display_name": "Python 3",
   "language": "python",
   "name": "python3"
  },
  "language_info": {
   "codemirror_mode": {
    "name": "ipython",
    "version": 3
   },
   "file_extension": ".py",
   "mimetype": "text/x-python",
   "name": "python",
   "nbconvert_exporter": "python",
   "pygments_lexer": "ipython3",
   "version": "3.8.5"
  }
 },
 "nbformat": 4,
 "nbformat_minor": 4
}
