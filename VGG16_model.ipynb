{
  "nbformat": 4,
  "nbformat_minor": 0,
  "metadata": {
    "colab": {
      "name": "VGG16 model.ipynb",
      "provenance": [],
      "collapsed_sections": []
    },
    "kernelspec": {
      "name": "python3",
      "display_name": "Python 3"
    },
    "accelerator": "GPU"
  },
  "cells": [
    {
      "cell_type": "code",
      "metadata": {
        "id": "NVz6Wj779Ruc",
        "colab": {
          "base_uri": "https://localhost:8080/"
        },
        "outputId": "3c2061f5-a74f-4f53-ff35-a20a38daf1ef"
      },
      "source": [
        "from google.colab import drive\n",
        "drive.mount('/content/drive')"
      ],
      "execution_count": null,
      "outputs": [
        {
          "output_type": "stream",
          "text": [
            "Drive already mounted at /content/drive; to attempt to forcibly remount, call drive.mount(\"/content/drive\", force_remount=True).\n"
          ],
          "name": "stdout"
        }
      ]
    },
    {
      "cell_type": "code",
      "metadata": {
        "colab": {
          "base_uri": "https://localhost:8080/"
        },
        "id": "tdEE6GHyNrvE",
        "outputId": "2c2be5a6-ee51-4569-d201-93c713d4f0ec"
      },
      "source": [
        "!nvidia-smi"
      ],
      "execution_count": null,
      "outputs": [
        {
          "output_type": "stream",
          "text": [
            "Mon Feb  1 09:24:37 2021       \n",
            "+-----------------------------------------------------------------------------+\n",
            "| NVIDIA-SMI 460.32.03    Driver Version: 418.67       CUDA Version: 10.1     |\n",
            "|-------------------------------+----------------------+----------------------+\n",
            "| GPU  Name        Persistence-M| Bus-Id        Disp.A | Volatile Uncorr. ECC |\n",
            "| Fan  Temp  Perf  Pwr:Usage/Cap|         Memory-Usage | GPU-Util  Compute M. |\n",
            "|                               |                      |               MIG M. |\n",
            "|===============================+======================+======================|\n",
            "|   0  Tesla T4            Off  | 00000000:00:04.0 Off |                    0 |\n",
            "| N/A   57C    P8    10W /  70W |      0MiB / 15079MiB |      0%      Default |\n",
            "|                               |                      |                 ERR! |\n",
            "+-------------------------------+----------------------+----------------------+\n",
            "                                                                               \n",
            "+-----------------------------------------------------------------------------+\n",
            "| Processes:                                                                  |\n",
            "|  GPU   GI   CI        PID   Type   Process name                  GPU Memory |\n",
            "|        ID   ID                                                   Usage      |\n",
            "|=============================================================================|\n",
            "|  No running processes found                                                 |\n",
            "+-----------------------------------------------------------------------------+\n"
          ],
          "name": "stdout"
        }
      ]
    },
    {
      "cell_type": "code",
      "metadata": {
        "colab": {
          "base_uri": "https://localhost:8080/",
          "height": 35
        },
        "id": "z4TLAtXuNrnJ",
        "outputId": "bbf88fa2-1f73-4dab-c1f6-3d2838a07d0a"
      },
      "source": [
        "import tensorflow as tf\n",
        "tf .__version__"
      ],
      "execution_count": null,
      "outputs": [
        {
          "output_type": "execute_result",
          "data": {
            "application/vnd.google.colaboratory.intrinsic+json": {
              "type": "string"
            },
            "text/plain": [
              "'2.4.1'"
            ]
          },
          "metadata": {
            "tags": []
          },
          "execution_count": 3
        }
      ]
    },
    {
      "cell_type": "code",
      "metadata": {
        "id": "ahqoeYfEb-pN"
      },
      "source": [
        "import keras,os\n",
        "from tensorflow.keras import Sequential\n",
        "from keras.layers import Conv2D \n",
        "from keras.layers import MaxPool2D\n",
        "from keras.layers import Flatten\n",
        "from keras.layers import Dense\n",
        "from keras.preprocessing.image import ImageDataGenerator\n",
        "import numpy as np"
      ],
      "execution_count": null,
      "outputs": []
    },
    {
      "cell_type": "code",
      "metadata": {
        "colab": {
          "base_uri": "https://localhost:8080/"
        },
        "id": "nAXSKIQLcBmW",
        "outputId": "293f83cc-bcd1-4b9c-a080-30a5ef68acd4"
      },
      "source": [
        "trdata = ImageDataGenerator()\n",
        "traindata = trdata.flow_from_directory(directory= '/content/drive/MyDrive/Drishti/Dataset5/train', target_size = (160,160))\n",
        "tsdata = ImageDataGenerator()\n",
        "testdata = tsdata.flow_from_directory(directory= '/content/drive/MyDrive/Drishti/Dataset5/test', target_size = (160,160))"
      ],
      "execution_count": null,
      "outputs": [
        {
          "output_type": "stream",
          "text": [
            "Found 3432 images belonging to 2 classes.\n",
            "Found 858 images belonging to 2 classes.\n"
          ],
          "name": "stdout"
        }
      ]
    },
    {
      "cell_type": "code",
      "metadata": {
        "id": "M1t6jDBgi3gw",
        "colab": {
          "base_uri": "https://localhost:8080/"
        },
        "outputId": "eee63979-94b5-4110-faa3-eb3018957fc7"
      },
      "source": [
        "VGG = keras.applications.VGG16(input_shape=(160,160,3), include_top = False, weights = 'imagenet')\n",
        "\n",
        "VGG.trainable = False\n",
        "\n",
        "model = keras.Sequential([\n",
        "  VGG,\n",
        "  keras.layers.Flatten(),\n",
        "  keras.layers.Dense(units=256,activation=\"relu\"),\n",
        "  keras.layers.Dense(units=256,activation=\"relu\"),\n",
        "  keras.layers.Dense(units=2,activation=\"softmax\")\n",
        "])\n"
      ],
      "execution_count": null,
      "outputs": [
        {
          "output_type": "stream",
          "text": [
            "Downloading data from https://storage.googleapis.com/tensorflow/keras-applications/vgg16/vgg16_weights_tf_dim_ordering_tf_kernels_notop.h5\n",
            "58892288/58889256 [==============================] - 0s 0us/step\n"
          ],
          "name": "stdout"
        }
      ]
    },
    {
      "cell_type": "code",
      "metadata": {
        "id": "_52SMMJGj1UG"
      },
      "source": [
        "model.compile(optimizer='adam',loss=keras.losses.categorical_crossentropy, metrics=['accuracy'])"
      ],
      "execution_count": null,
      "outputs": []
    },
    {
      "cell_type": "code",
      "metadata": {
        "colab": {
          "base_uri": "https://localhost:8080/"
        },
        "id": "90LBPZLukMd8",
        "outputId": "6b9a03dc-89f4-434b-b837-4fdc460c3a53"
      },
      "source": [
        "model.summary()"
      ],
      "execution_count": null,
      "outputs": [
        {
          "output_type": "stream",
          "text": [
            "Model: \"sequential\"\n",
            "_________________________________________________________________\n",
            "Layer (type)                 Output Shape              Param #   \n",
            "=================================================================\n",
            "vgg16 (Functional)           (None, 5, 5, 512)         14714688  \n",
            "_________________________________________________________________\n",
            "flatten (Flatten)            (None, 12800)             0         \n",
            "_________________________________________________________________\n",
            "dense (Dense)                (None, 256)               3277056   \n",
            "_________________________________________________________________\n",
            "dense_1 (Dense)              (None, 256)               65792     \n",
            "_________________________________________________________________\n",
            "dense_2 (Dense)              (None, 2)                 514       \n",
            "=================================================================\n",
            "Total params: 18,058,050\n",
            "Trainable params: 3,343,362\n",
            "Non-trainable params: 14,714,688\n",
            "_________________________________________________________________\n"
          ],
          "name": "stdout"
        }
      ]
    },
    {
      "cell_type": "code",
      "metadata": {
        "colab": {
          "base_uri": "https://localhost:8080/"
        },
        "id": "KF7LrXmlkRyF",
        "outputId": "fe8463cd-7ba6-4783-95f9-85cc1ed5716c"
      },
      "source": [
        "hist = model.fit_generator(steps_per_epoch=100, generator=traindata, validation_data=testdata, validation_steps=10, epochs=5)\n"
      ],
      "execution_count": null,
      "outputs": [
        {
          "output_type": "stream",
          "text": [
            "/usr/local/lib/python3.6/dist-packages/tensorflow/python/keras/engine/training.py:1844: UserWarning: `Model.fit_generator` is deprecated and will be removed in a future version. Please use `Model.fit`, which supports generators.\n",
            "  warnings.warn('`Model.fit_generator` is deprecated and '\n"
          ],
          "name": "stderr"
        },
        {
          "output_type": "stream",
          "text": [
            "Epoch 1/5\n",
            "100/100 [==============================] - 393s 4s/step - loss: 0.2680 - accuracy: 0.9811 - val_loss: 0.5979 - val_accuracy: 0.9656\n",
            "Epoch 2/5\n",
            "100/100 [==============================] - 134s 1s/step - loss: 0.1670 - accuracy: 0.9880 - val_loss: 0.0758 - val_accuracy: 0.9937\n",
            "Epoch 3/5\n",
            "100/100 [==============================] - 74s 746ms/step - loss: 0.0569 - accuracy: 0.9931 - val_loss: 0.5493 - val_accuracy: 0.9625\n",
            "Epoch 4/5\n",
            "100/100 [==============================] - 49s 489ms/step - loss: 0.0486 - accuracy: 0.9965 - val_loss: 0.0445 - val_accuracy: 0.9906\n",
            "Epoch 5/5\n",
            "100/100 [==============================] - 30s 303ms/step - loss: 0.0161 - accuracy: 0.9978 - val_loss: 0.2386 - val_accuracy: 0.9688\n"
          ],
          "name": "stdout"
        }
      ]
    },
    {
      "cell_type": "code",
      "metadata": {
        "id": "TfPmL8oKtM9S"
      },
      "source": [
        "model.save('/content/drive/MyDrive/vgg16_model.h5')"
      ],
      "execution_count": null,
      "outputs": []
    },
    {
      "cell_type": "code",
      "metadata": {
        "id": "lYe1-dpMkZT8",
        "colab": {
          "base_uri": "https://localhost:8080/"
        },
        "outputId": "8c49eb89-b1a6-4ce6-f726-b5fa573f0003"
      },
      "source": [
        "import tensorflow as tf\n",
        "import keras\n",
        "from keras.preprocessing import image\n",
        "path='/content/drive/MyDrive/pics'\n",
        "import numpy as np\n",
        "import os\n",
        "c=0\n",
        "for f in os.listdir(path):\n",
        "  img_pred = image.load_img(os.path.join(path,f), target_size = (160,160))\n",
        "  img_pred = image.img_to_array(img_pred)\n",
        "  img_pred = np.expand_dims(img_pred, axis=0)\n",
        "  rslt = model.predict(img_pred)\n",
        "  print (rslt)\n",
        "  if rslt[0][0]>0.5:\n",
        "    c+=1\n",
        "    prediction = \"random\"\n",
        "  else:\n",
        "    prediction = \"tennis ball\"\n",
        "  print(prediction)"
      ],
      "execution_count": null,
      "outputs": [
        {
          "output_type": "stream",
          "text": [
            "[[1.0000000e+00 7.2398793e-34]]\n",
            "random\n",
            "[[0. 1.]]\n",
            "tennis ball\n",
            "[[0. 1.]]\n",
            "tennis ball\n",
            "[[8.826234e-19 1.000000e+00]]\n",
            "tennis ball\n",
            "[[1.000000e+00 3.879206e-12]]\n",
            "random\n",
            "[[0. 1.]]\n",
            "tennis ball\n",
            "[[2.7827625e-32 1.0000000e+00]]\n",
            "tennis ball\n"
          ],
          "name": "stdout"
        }
      ]
    },
    {
      "cell_type": "code",
      "metadata": {
        "colab": {
          "base_uri": "https://localhost:8080/"
        },
        "id": "AxMf_13YmPcc",
        "outputId": "4070a9ee-eda1-4787-92ea-6498a1bdec17"
      },
      "source": [
        "img_pred = image.load_img('/content/drive/MyDrive/pics/img_20210201_002245.jpg', target_size = (160,160))\n",
        "img_pred = image.img_to_array(img_pred)\n",
        "img_pred = np.expand_dims(img_pred, axis=0)\n",
        "\n",
        "result = model.predict(img_pred)\n",
        "print (result)\n",
        "if result[0][0] == 1:\n",
        "  prediction = \"random\"\n",
        "else:\n",
        "  prediction = \"ball\"\n",
        "\n",
        "print(prediction)"
      ],
      "execution_count": null,
      "outputs": [
        {
          "output_type": "stream",
          "text": [
            "[[0. 1.]]\n",
            "ball\n"
          ],
          "name": "stdout"
        }
      ]
    },
    {
      "cell_type": "code",
      "metadata": {
        "id": "VJ_fPsDTB0PZ"
      },
      "source": [
        ""
      ],
      "execution_count": null,
      "outputs": []
    }
  ]
}