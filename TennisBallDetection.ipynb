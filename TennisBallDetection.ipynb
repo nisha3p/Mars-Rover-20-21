{
  "nbformat": 4,
  "nbformat_minor": 0,
  "metadata": {
    "colab": {
      "name": "TennisBallDetection.ipynb",
      "provenance": [],
      "collapsed_sections": [],
      "mount_file_id": "1FNaMNmrlz8-9HNXIq-1kRN_QlNqwfRkw",
      "authorship_tag": "ABX9TyMWI5IwAMqgFrDyX+CnE9bA",
      "include_colab_link": true
    },
    "kernelspec": {
      "name": "python3",
      "display_name": "Python 3"
    }
  },
  "cells": [
    {
      "cell_type": "markdown",
      "metadata": {
        "id": "view-in-github",
        "colab_type": "text"
      },
      "source": [
        "<a href=\"https://colab.research.google.com/github/nisha3p/Mars-Rover-20-21/blob/main/TennisBallDetection.ipynb\" target=\"_parent\"><img src=\"https://colab.research.google.com/assets/colab-badge.svg\" alt=\"Open In Colab\"/></a>"
      ]
    },
    {
      "cell_type": "code",
      "metadata": {
        "id": "ahWpDnIQdMTP"
      },
      "source": [
        "import tensorflow as tf\r\n",
        "import keras\r\n",
        "model=tf.keras.models.load_model('/content/drive/MyDrive/Copy of vgg16_model.h5')"
      ],
      "execution_count": null,
      "outputs": []
    },
    {
      "cell_type": "code",
      "metadata": {
        "colab": {
          "base_uri": "https://localhost:8080/"
        },
        "id": "e9CADPxDmHMx",
        "outputId": "7b97acf5-0020-4e43-ed93-edf8c5c06b8e"
      },
      "source": [
        "import tensorflow as tf\r\n",
        "import keras\r\n",
        "from keras.preprocessing import image\r\n",
        "path='/content/drive/MyDrive/Photos'\r\n",
        "import numpy as np\r\n",
        "import os\r\n",
        "c=0\r\n",
        "for f in os.listdir(path):\r\n",
        "  img_pred = image.load_img(os.path.join(path,f), target_size = (160,160))\r\n",
        "  img_pred = image.img_to_array(img_pred)\r\n",
        "  img_pred = np.expand_dims(img_pred, axis=0)\r\n",
        "  rslt = model.predict(img_pred)\r\n",
        "  print (rslt)\r\n",
        "  if rslt[0][0]>0.5:\r\n",
        "    c+=1\r\n",
        "    prediction = \"random\"\r\n",
        "  else:\r\n",
        "    prediction = \"tennis ball\"\r\n",
        "  print(prediction)"
      ],
      "execution_count": null,
      "outputs": [
        {
          "output_type": "stream",
          "text": [
            "[[0. 1.]]\n",
            "tennis ball\n",
            "[[0. 1.]]\n",
            "tennis ball\n",
            "[[0. 1.]]\n",
            "tennis ball\n",
            "[[0. 1.]]\n",
            "tennis ball\n",
            "[[0. 1.]]\n",
            "tennis ball\n",
            "[[0. 1.]]\n",
            "tennis ball\n",
            "[[0. 1.]]\n",
            "tennis ball\n",
            "[[0. 1.]]\n",
            "tennis ball\n",
            "[[0. 1.]]\n",
            "tennis ball\n",
            "[[0. 1.]]\n",
            "tennis ball\n",
            "[[0. 1.]]\n",
            "tennis ball\n",
            "[[0. 1.]]\n",
            "tennis ball\n",
            "[[7.913462e-30 1.000000e+00]]\n",
            "tennis ball\n",
            "[[0. 1.]]\n",
            "tennis ball\n",
            "[[0. 1.]]\n",
            "tennis ball\n",
            "[[0. 1.]]\n",
            "tennis ball\n",
            "[[0. 1.]]\n",
            "tennis ball\n",
            "[[0. 1.]]\n",
            "tennis ball\n",
            "[[0. 1.]]\n",
            "tennis ball\n",
            "[[0. 1.]]\n",
            "tennis ball\n",
            "[[0. 1.]]\n",
            "tennis ball\n"
          ],
          "name": "stdout"
        }
      ]
    }
  ]
}